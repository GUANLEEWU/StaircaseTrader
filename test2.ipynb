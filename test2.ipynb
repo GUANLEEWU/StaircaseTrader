{
 "cells": [
  {
   "cell_type": "code",
   "execution_count": 1,
   "metadata": {},
   "outputs": [],
   "source": [
    "import time\n",
    "import sys, os, json\n",
    "import napilib as na\n",
    "from staircaseMain import GridTrader\n",
    "from bybitTrader import BybitTrader\n",
    "sys.path.append(os.path.expanduser('~/docus'))\n",
    "import secret0 # type: ignore\n",
    "    \n",
    "api_key = secret0.api_key_real\n",
    "secret_key = secret0.secret_key_real\n",
    "trader = BybitTrader(api_key, secret_key, testnet=False)\n"
   ]
  },
  {
   "cell_type": "code",
   "execution_count": 5,
   "metadata": {},
   "outputs": [
    {
     "name": "stdout",
     "output_type": "stream",
     "text": [
      "Order 1756759303014061824 cancelled successfully.\n"
     ]
    },
    {
     "data": {
      "text/plain": [
       "{'retCode': 0,\n",
       " 'retMsg': 'OK',\n",
       " 'result': {'orderId': '1756759303014061824',\n",
       "  'orderLinkId': 'e98324e307224c1cad94148ffadc720b'},\n",
       " 'retExtInfo': {},\n",
       " 'time': 1724158583762}"
      ]
     },
     "execution_count": 5,
     "metadata": {},
     "output_type": "execute_result"
    }
   ],
   "source": [
    "trader.cancel_order(id='1756759303014061824')"
   ]
  },
  {
   "cell_type": "code",
   "execution_count": null,
   "metadata": {},
   "outputs": [],
   "source": [
    "# Define symbol and time range\n",
    "symbol = \"BTCUSDT\"\n",
    "category = \"spot\"\n",
    "# start_time = int(time.mktime(time.strptime(\"2024-08-19 00:00:00\", \"%Y-%m-%d %H:%M:%S\")) * 1000)\n",
    "# start_time = int((time.time()-3600) * 1000)\n",
    "end_time = int(time.time() * 1000) \n",
    "\n",
    "# start_time = 1724145500*1000 + 126\n",
    "start_time = 1724145597387\n",
    "# end_time = 1724145858306\n",
    "\n",
    "order_history = trader.get_order_history(symbol, start_time, end_time, category=category)\n",
    "\n",
    "# Print the fetched order history\n",
    "if order_history:\n",
    "    # print(f\"Order history for {symbol} from 8/19 00:00 to now:\")\n",
    "    for order in order_history:\n",
    "        print(json.dumps(order, indent=2))\n",
    "        # print(f\"Order ID: {order['orderId']}, Status: {order['orderStatus']}, Price: {order.get('price')}, Quantity: {order.get('qty')}\")\n",
    "else:\n",
    "    print(\"No order history found or an error occurred.\")\n",
    "    print(order_history)"
   ]
  },
  {
   "cell_type": "code",
   "execution_count": 4,
   "metadata": {},
   "outputs": [
    {
     "name": "stdout",
     "output_type": "stream",
     "text": [
      "Returned Order history\n"
     ]
    },
    {
     "data": {
      "text/plain": [
       "[{'symbol': 'BTCUSDT',\n",
       "  'orderType': 'Limit',\n",
       "  'orderLinkId': '75ca9192d2ed4786b2c69ca781f3d0b5',\n",
       "  'slLimitPrice': '0',\n",
       "  'orderId': '1756653114712397568',\n",
       "  'cancelType': 'UNKNOWN',\n",
       "  'avgPrice': '60953.8',\n",
       "  'stopOrderType': '',\n",
       "  'lastPriceOnCreated': '',\n",
       "  'orderStatus': 'Filled',\n",
       "  'takeProfit': '0',\n",
       "  'cumExecValue': '3.04769000',\n",
       "  'smpType': 'None',\n",
       "  'triggerDirection': 0,\n",
       "  'blockTradeId': '',\n",
       "  'rejectReason': 'EC_NoError',\n",
       "  'isLeverage': '0',\n",
       "  'price': '60953.80',\n",
       "  'orderIv': '',\n",
       "  'createdTime': '1724145369793',\n",
       "  'tpTriggerBy': '',\n",
       "  'positionIdx': 0,\n",
       "  'trailingPercentage': '0',\n",
       "  'timeInForce': 'GTC',\n",
       "  'leavesValue': '0.00000000',\n",
       "  'basePrice': '60956.45',\n",
       "  'updatedTime': '1724145373737',\n",
       "  'side': 'Buy',\n",
       "  'smpGroup': 0,\n",
       "  'triggerPrice': '0.00',\n",
       "  'tpLimitPrice': '0',\n",
       "  'trailingValue': '0',\n",
       "  'cumExecFee': '0.00000005',\n",
       "  'slTriggerBy': '',\n",
       "  'leavesQty': '0.000000',\n",
       "  'closeOnTrigger': False,\n",
       "  'placeType': '',\n",
       "  'cumExecQty': '0.000050',\n",
       "  'reduceOnly': False,\n",
       "  'activationPrice': '0',\n",
       "  'qty': '0.000050',\n",
       "  'stopLoss': '0',\n",
       "  'marketUnit': '',\n",
       "  'smpOrderId': '',\n",
       "  'triggerBy': ''}]"
      ]
     },
     "execution_count": 4,
     "metadata": {},
     "output_type": "execute_result"
    }
   ],
   "source": [
    "trader.get_order_history('BTCUSDT',orderId='1756653114712397568')"
   ]
  },
  {
   "cell_type": "code",
   "execution_count": 11,
   "metadata": {},
   "outputs": [
    {
     "name": "stdout",
     "output_type": "stream",
     "text": [
      "Returned trade history for BTCUSDT from 1724145612126 to 1724150463397:\n",
      "[\n",
      "  {\n",
      "    \"symbol\": \"BTCUSDT\",\n",
      "    \"orderType\": \"Limit\",\n",
      "    \"underlyingPrice\": \"\",\n",
      "    \"orderLinkId\": \"8c86a488725d4507874bd5c5224874d9\",\n",
      "    \"orderId\": \"1756653155841742592\",\n",
      "    \"stopOrderType\": \"\",\n",
      "    \"execTime\": \"1724145823009\",\n",
      "    \"feeCurrency\": \"USDT\",\n",
      "    \"feeRate\": \"0.001\",\n",
      "    \"tradeIv\": \"\",\n",
      "    \"blockTradeId\": \"\",\n",
      "    \"markPrice\": \"\",\n",
      "    \"execPrice\": \"60978.8\",\n",
      "    \"markIv\": \"\",\n",
      "    \"orderQty\": \"0.00005\",\n",
      "    \"orderPrice\": \"60978.8\",\n",
      "    \"execValue\": \"3.04894\",\n",
      "    \"closedSize\": \"\",\n",
      "    \"execType\": \"Trade\",\n",
      "    \"seq\": 37931190210,\n",
      "    \"side\": \"Sell\",\n",
      "    \"indexPrice\": \"\",\n",
      "    \"leavesQty\": \"0\",\n",
      "    \"isMaker\": true,\n",
      "    \"execFee\": \"0.00304894\",\n",
      "    \"execId\": \"2290000000325750772\",\n",
      "    \"marketUnit\": \"\",\n",
      "    \"execQty\": \"0.00005\"\n",
      "  },\n",
      "  {\n",
      "    \"symbol\": \"BTCUSDT\",\n",
      "    \"orderType\": \"Limit\",\n",
      "    \"underlyingPrice\": \"\",\n",
      "    \"orderLinkId\": \"33fb6a0a52f045e89fe03f891d018418\",\n",
      "    \"orderId\": \"1756655023926023936\",\n",
      "    \"stopOrderType\": \"\",\n",
      "    \"execTime\": \"1724145617124\",\n",
      "    \"feeCurrency\": \"USDT\",\n",
      "    \"feeRate\": \"0.001\",\n",
      "    \"tradeIv\": \"\",\n",
      "    \"blockTradeId\": \"\",\n",
      "    \"markPrice\": \"\",\n",
      "    \"execPrice\": \"60903.8\",\n",
      "    \"markIv\": \"\",\n",
      "    \"orderQty\": \"0.00005\",\n",
      "    \"orderPrice\": \"60903.8\",\n",
      "    \"execValue\": \"3.04519\",\n",
      "    \"closedSize\": \"\",\n",
      "    \"execType\": \"Trade\",\n",
      "    \"seq\": 37931101999,\n",
      "    \"side\": \"Sell\",\n",
      "    \"indexPrice\": \"\",\n",
      "    \"leavesQty\": \"0\",\n",
      "    \"isMaker\": true,\n",
      "    \"execFee\": \"0.00304519\",\n",
      "    \"execId\": \"2290000000325748332\",\n",
      "    \"marketUnit\": \"\",\n",
      "    \"execQty\": \"0.00005\"\n",
      "  }\n",
      "]\n"
     ]
    }
   ],
   "source": [
    "end_time = int(time.time() * 1000) \n",
    "a = trader.get_trade_history('BTCUSDT',start_time=1724145612126,end_time=end_time)\n",
    "print(json.dumps(a, indent=2))"
   ]
  },
  {
   "cell_type": "code",
   "execution_count": 8,
   "metadata": {},
   "outputs": [
    {
     "name": "stdout",
     "output_type": "stream",
     "text": [
      "UTC Time: 2024-08-20 09:20:17.126\n"
     ]
    }
   ],
   "source": [
    "from datetime import datetime, timezone\n",
    "\n",
    "# Given timestamp in milliseconds\n",
    "timestamp_ms = 1724145617126\n",
    "\n",
    "# Convert milliseconds to seconds\n",
    "timestamp_s = timestamp_ms / 1000\n",
    "\n",
    "# Convert to UTC datetime\n",
    "utc_time = datetime.fromtimestamp(timestamp_s, tz=timezone.utc)\n",
    "\n",
    "# Print the result\n",
    "print(\"UTC Time:\", utc_time.strftime('%Y-%m-%d %H:%M:%S.%f')[:-3])\n"
   ]
  }
 ],
 "metadata": {
  "kernelspec": {
   "display_name": "Python 3",
   "language": "python",
   "name": "python3"
  },
  "language_info": {
   "codemirror_mode": {
    "name": "ipython",
    "version": 3
   },
   "file_extension": ".py",
   "mimetype": "text/x-python",
   "name": "python",
   "nbconvert_exporter": "python",
   "pygments_lexer": "ipython3",
   "version": "3.11.6"
  }
 },
 "nbformat": 4,
 "nbformat_minor": 2
}
